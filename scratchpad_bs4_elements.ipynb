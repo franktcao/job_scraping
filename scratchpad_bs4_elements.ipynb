{
 "cells": [
  {
   "cell_type": "code",
   "execution_count": 5,
   "metadata": {},
   "outputs": [
    {
     "data": {
      "text/plain": [
       "\"POSITION SUMMARY: MIB is committed to providing valued-added services to customers and improving efficiency through enhanced capabilities in data and advanced analytics. As an integral part of this long-term strategy, this role is critical to improving operations, expanding product offerings, and servicing the life insurance industry. Please note that this role does not offer any type of relocation or sponsorship.MINIMUM QUALIFICATIONS AND REQUIREMENTS:Education: A master’s degree in a quantitative field such as statistics, mathematics, computer science, engineering, and physics. Ph.D is a plus.Experience: 2 – 6 years of relevant experience in insurance, banking or other financial industriesSkills:o Must be proficient in SQLo Must be expert in at least one of the following - R, Python, SASo Preferred additional skills include VBA, EXCEL, ACCESS, SQL Server, DB2, PostgreSQL, UNIX, LINUX, C, C++, JAVA, JavaScript, SparkIn-depth knowledge of statistical techniques including:o GLM (multiple regression, logistic regression, log-linear regression, and variable selection)o Multivariate analysis - Clustering, factor, principal componento Time series forecastingo Survival analysis, and so on.Understanding of Machine learning (e.g. random forests, support vector machines, gradient boosting, etc.), Natural Language Processing and Deep Learning (e.g. CNN) techniquesExperience in building predictive models using large datasetsExperience with data ETL, ability to overcome challenges in a fragmented data environment and ensuring data qualityExperience applying advanced analytics to solve business problems and drive business resultsKnowledge of life, health, property/casualty insurance principlesTrack record in meeting deadlinesStrong verbal and written communication skills with demonstrated ability to explain technical results to technical and non-technical audiencesGENERAL DUTIES AND RESPONSIBILITIES:(This is a representative list of the general duties the position may be asked to perform, and is not intended to be all-inclusive)Collaborate with business partners and customers to understand business needs, assess opportunities and assist in new product developmentApply advanced analytics skills and business knowledge to design and develop analytic solutions for internal and external customersPerform data ETL, query, merge, sampling, and quality checks on large datasets from diverse sourcesPerform variable reduction, selection, clustering, imputation, grouping, and customizationSelect analytic technique(s) most appropriate for the problem (e.g GLM, survival analysis, time series, multivariate analysis, ML, NLP, and DL etc.) and develop candidate modelsPerform model validation to compare lift, accuracy, reliability and stability of models, and select the final solutionWork with deployment team to implement final models in productionDevelop performance metrics, automate monitoring procedures, and update models as needed;Develop visualization and present analytic results to business partners, senior management and customersStay current with the latest analytical skills, technological innovations and insurance developments; serve as a mentor to other teammatesTIME ALLOCATION:15% - Data exploration and preparation50% - Developing and implementing analytics solutions10% - Model monitoring and maintenance15% - Ad hoc research and training10% - Customer support and other duties**This position does not offer any type of relocation nor do we provide any type of sponsorship.All Associates (whether full-time, part-time, or temporary), Interns, Subcontractors, and Service Providers are to follow the Information Security Program to:Ensure the security of Protected Information;Protect against anticipated threats or hazards to the security or integrity of Protected Information; andProtect against unauthorized access to or use of Protected Information in a manner that creates a substantial risk of a security breach, identity theft or fraud. Associates must contact the Help Desk immediately in the event of or suspicion of a security event (e.g., lost or stolen equipment, sensitive information disclosure, etc.)This job description does not include a comprehensive list of all duties the associate may be asked to perform in the course of the business day or may be assigned as part of the position. Other duties may be assigned as appropriate based on MIB business needs.Job Type: Full-timeExperience:relevant predictive analytics: 2 years (Required)insurance industry: 2 years (Required)hands on data/analytics: 4 years (Preferred)Education:Master's (Required)Location:Braintree, MA 02184 (Required)Work authorization:United States (Required)Additional Compensation:BonusesWork Location:One locationBenefits:Health insuranceDental insuranceVision insuranceRetirement planPaid time offFlexible scheduleProfessional development assistanceTuition reimbursementParental leave\""
      ]
     },
     "execution_count": 5,
     "metadata": {},
     "output_type": "execute_result"
    }
   ],
   "source": [
    "import requests\n",
    "from bs4 import BeautifulSoup\n",
    "\n",
    "page = requests.get('https://www.indeed.com/viewjob?jk=c920345674fcc072')\n",
    "soup = BeautifulSoup(page.text, 'lxml')\n",
    "description = soup.find(name='div', class_='jobsearch-jobDescriptionText')\n",
    "description = description.text\n",
    "# description = description.replace('\\n',' ')\n",
    "# description = description.replace('\\t',' ')\n",
    "#     except:\n",
    "#         pass\n",
    "description"
   ]
  },
  {
   "cell_type": "code",
   "execution_count": null,
   "metadata": {},
   "outputs": [],
   "source": []
  }
 ],
 "metadata": {
  "kernelspec": {
   "display_name": "Python 3",
   "language": "python",
   "name": "python3"
  },
  "language_info": {
   "codemirror_mode": {
    "name": "ipython",
    "version": 3
   },
   "file_extension": ".py",
   "mimetype": "text/x-python",
   "name": "python",
   "nbconvert_exporter": "python",
   "pygments_lexer": "ipython3",
   "version": "3.7.2"
  }
 },
 "nbformat": 4,
 "nbformat_minor": 2
}

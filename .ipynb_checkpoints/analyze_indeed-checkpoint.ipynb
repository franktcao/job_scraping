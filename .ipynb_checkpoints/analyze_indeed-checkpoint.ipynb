{
 "cells": [
  {
   "cell_type": "markdown",
   "metadata": {},
   "source": [
    "# Analyzing Clean Indeed Dataset\n",
    "## 1. Setting Up"
   ]
  },
  {
   "cell_type": "code",
   "execution_count": 122,
   "metadata": {},
   "outputs": [
    {
     "data": {
      "text/html": [
       "<div>\n",
       "<style scoped>\n",
       "    .dataframe tbody tr th:only-of-type {\n",
       "        vertical-align: middle;\n",
       "    }\n",
       "\n",
       "    .dataframe tbody tr th {\n",
       "        vertical-align: top;\n",
       "    }\n",
       "\n",
       "    .dataframe thead th {\n",
       "        text-align: right;\n",
       "    }\n",
       "</style>\n",
       "<table border=\"1\" class=\"dataframe\">\n",
       "  <thead>\n",
       "    <tr style=\"text-align: right;\">\n",
       "      <th></th>\n",
       "      <th>job_title</th>\n",
       "      <th>company_name</th>\n",
       "      <th>annual_salary</th>\n",
       "      <th>city</th>\n",
       "      <th>state</th>\n",
       "      <th>zipcode</th>\n",
       "      <th>neighborhood</th>\n",
       "      <th>description</th>\n",
       "      <th>link</th>\n",
       "    </tr>\n",
       "  </thead>\n",
       "  <tbody>\n",
       "    <tr>\n",
       "      <th>0</th>\n",
       "      <td>Statistical Genetics, Data Scientist</td>\n",
       "      <td>Camp4 Therapeutics Corporation</td>\n",
       "      <td>NaN</td>\n",
       "      <td>Cambridge</td>\n",
       "      <td>MA</td>\n",
       "      <td></td>\n",
       "      <td></td>\n",
       "      <td>job description camp4 is seeking a data scient...</td>\n",
       "      <td>03bf439bfa53ee13</td>\n",
       "    </tr>\n",
       "    <tr>\n",
       "      <th>1</th>\n",
       "      <td>Data Scientist</td>\n",
       "      <td>MIB Group, Inc.</td>\n",
       "      <td>NaN</td>\n",
       "      <td>Braintree</td>\n",
       "      <td>MA</td>\n",
       "      <td>02184</td>\n",
       "      <td></td>\n",
       "      <td>position summary: mib is committed to providin...</td>\n",
       "      <td>c920345674fcc072</td>\n",
       "    </tr>\n",
       "    <tr>\n",
       "      <th>2</th>\n",
       "      <td>Translational Medicine and Data Science Expert</td>\n",
       "      <td>Novartis</td>\n",
       "      <td>NaN</td>\n",
       "      <td>Cambridge</td>\n",
       "      <td>MA</td>\n",
       "      <td></td>\n",
       "      <td></td>\n",
       "      <td>20 petabytes of data. 2 million patient-years ...</td>\n",
       "      <td>4fdbb9b5cb09e0d2</td>\n",
       "    </tr>\n",
       "    <tr>\n",
       "      <th>3</th>\n",
       "      <td>Computational Biologist/Data Scientist</td>\n",
       "      <td>Goldfinch Bio</td>\n",
       "      <td>NaN</td>\n",
       "      <td>Cambridge</td>\n",
       "      <td>MA</td>\n",
       "      <td></td>\n",
       "      <td></td>\n",
       "      <td>goldfinch bio is a biotechnology company that ...</td>\n",
       "      <td>f14bc6dec8b4f60f</td>\n",
       "    </tr>\n",
       "    <tr>\n",
       "      <th>4</th>\n",
       "      <td>Principal Data Scientist</td>\n",
       "      <td>Verizon</td>\n",
       "      <td>NaN</td>\n",
       "      <td>Boston</td>\n",
       "      <td>MA</td>\n",
       "      <td>02109</td>\n",
       "      <td>Central area</td>\n",
       "      <td>what you’ll be doing... as a principal data sc...</td>\n",
       "      <td>8d13390a342786e0</td>\n",
       "    </tr>\n",
       "    <tr>\n",
       "      <th>5</th>\n",
       "      <td>Data Scientist / Machine Learning Architect / ...</td>\n",
       "      <td>Profitect Inc.</td>\n",
       "      <td>NaN</td>\n",
       "      <td>Burlington</td>\n",
       "      <td>MA</td>\n",
       "      <td></td>\n",
       "      <td></td>\n",
       "      <td>profitect’s research and development team is l...</td>\n",
       "      <td>b7ae218bbb0b2a50</td>\n",
       "    </tr>\n",
       "    <tr>\n",
       "      <th>6</th>\n",
       "      <td>Data Scientist (Full-Time)</td>\n",
       "      <td>proton.ai</td>\n",
       "      <td>97500.0</td>\n",
       "      <td>Boston</td>\n",
       "      <td>MA</td>\n",
       "      <td></td>\n",
       "      <td></td>\n",
       "      <td>*job description data scientist (full-time)tea...</td>\n",
       "      <td>8cacfaa3c21d0129</td>\n",
       "    </tr>\n",
       "    <tr>\n",
       "      <th>7</th>\n",
       "      <td>Data Scientist (Intern, Part-Time)</td>\n",
       "      <td>proton.ai</td>\n",
       "      <td>NaN</td>\n",
       "      <td>Boston</td>\n",
       "      <td>MA</td>\n",
       "      <td></td>\n",
       "      <td></td>\n",
       "      <td>data scientist (intern, part-time)team:  data ...</td>\n",
       "      <td>1a087273ecb3d9e3</td>\n",
       "    </tr>\n",
       "    <tr>\n",
       "      <th>8</th>\n",
       "      <td>Sr. Data Scientist</td>\n",
       "      <td>Cubic IT</td>\n",
       "      <td>24795.0</td>\n",
       "      <td>Boston</td>\n",
       "      <td>MA</td>\n",
       "      <td></td>\n",
       "      <td></td>\n",
       "      <td>job summarylooking for an experienced machine ...</td>\n",
       "      <td>8b0554b4567cb6b0</td>\n",
       "    </tr>\n",
       "    <tr>\n",
       "      <th>9</th>\n",
       "      <td>Data Scientist</td>\n",
       "      <td>Park Jockey</td>\n",
       "      <td>NaN</td>\n",
       "      <td>Boston</td>\n",
       "      <td>MA</td>\n",
       "      <td></td>\n",
       "      <td></td>\n",
       "      <td>who you’ll work for reef technology is the eco...</td>\n",
       "      <td>0cc7c0afb827e835</td>\n",
       "    </tr>\n",
       "  </tbody>\n",
       "</table>\n",
       "</div>"
      ],
      "text/plain": [
       "                                           job_title  \\\n",
       "0               Statistical Genetics, Data Scientist   \n",
       "1                                     Data Scientist   \n",
       "2     Translational Medicine and Data Science Expert   \n",
       "3             Computational Biologist/Data Scientist   \n",
       "4                           Principal Data Scientist   \n",
       "5  Data Scientist / Machine Learning Architect / ...   \n",
       "6                         Data Scientist (Full-Time)   \n",
       "7                 Data Scientist (Intern, Part-Time)   \n",
       "8                                 Sr. Data Scientist   \n",
       "9                                     Data Scientist   \n",
       "\n",
       "                     company_name  annual_salary        city state zipcode  \\\n",
       "0  Camp4 Therapeutics Corporation            NaN   Cambridge    MA           \n",
       "1                 MIB Group, Inc.            NaN   Braintree   MA    02184   \n",
       "2                        Novartis            NaN   Cambridge    MA           \n",
       "3                   Goldfinch Bio            NaN   Cambridge    MA           \n",
       "4                         Verizon            NaN      Boston   MA    02109   \n",
       "5                  Profitect Inc.            NaN  Burlington    MA           \n",
       "6                       proton.ai        97500.0      Boston    MA           \n",
       "7                       proton.ai            NaN      Boston    MA           \n",
       "8                        Cubic IT        24795.0      Boston    MA           \n",
       "9                     Park Jockey            NaN      Boston    MA           \n",
       "\n",
       "   neighborhood                                        description  \\\n",
       "0                job description camp4 is seeking a data scient...   \n",
       "1                position summary: mib is committed to providin...   \n",
       "2                20 petabytes of data. 2 million patient-years ...   \n",
       "3                goldfinch bio is a biotechnology company that ...   \n",
       "4  Central area  what you’ll be doing... as a principal data sc...   \n",
       "5                profitect’s research and development team is l...   \n",
       "6                *job description data scientist (full-time)tea...   \n",
       "7                data scientist (intern, part-time)team:  data ...   \n",
       "8                job summarylooking for an experienced machine ...   \n",
       "9                who you’ll work for reef technology is the eco...   \n",
       "\n",
       "               link  \n",
       "0  03bf439bfa53ee13  \n",
       "1  c920345674fcc072  \n",
       "2  4fdbb9b5cb09e0d2  \n",
       "3  f14bc6dec8b4f60f  \n",
       "4  8d13390a342786e0  \n",
       "5  b7ae218bbb0b2a50  \n",
       "6  8cacfaa3c21d0129  \n",
       "7  1a087273ecb3d9e3  \n",
       "8  8b0554b4567cb6b0  \n",
       "9  0cc7c0afb827e835  "
      ]
     },
     "execution_count": 122,
     "metadata": {},
     "output_type": "execute_result"
    }
   ],
   "source": [
    "import numpy as np\n",
    "import pandas as pd\n",
    "import matplotlib.pyplot as plt\n",
    "import seaborn as sns\n",
    "\n",
    "file_name = '2019-09-03_indeed-ds-postings_cleaned.csv'\n",
    "names = ['job_title',\n",
    "        'company_name',\n",
    "        'annual_salary',\n",
    "        'city',\n",
    "        'state',\n",
    "        'zipcode',\n",
    "        'neighborhood',\n",
    "        'description',\n",
    "        'link',\n",
    "]\n",
    "\n",
    "df = pd.read_csv(file_name, index_col=0, skiprows=1, names=names)\n",
    "# df['annual_salary'] = df['annual_salary'].str.replace('Similar jobs pay ','')\n",
    "\n",
    "df.head(10)"
   ]
  },
  {
   "cell_type": "markdown",
   "metadata": {},
   "source": [
    "## 2. Text Processing\n",
    "### A. Smart Tokenizing with `nltk`"
   ]
  },
  {
   "cell_type": "code",
   "execution_count": 123,
   "metadata": {},
   "outputs": [],
   "source": [
    "import nltk\n",
    "\n",
    "job_description = df.loc[0,'description']\n",
    "# pprint.pprint(job_description)"
   ]
  },
  {
   "cell_type": "code",
   "execution_count": 124,
   "metadata": {},
   "outputs": [
    {
     "name": "stdout",
     "output_type": "stream",
     "text": [
      "job description camp4 is seeking a data scientist specializing in statistical genetics . the successful candidate will utilize state-of-the-art statistical\n"
     ]
    }
   ],
   "source": [
    "description_tokenized = nltk.word_tokenize(job_description)\n",
    "print(' '.join(description_tokenized[:20]))\n",
    "# description_tokenized"
   ]
  },
  {
   "cell_type": "markdown",
   "metadata": {},
   "source": [
    "### B. Counting words to Get Term Frequency"
   ]
  },
  {
   "cell_type": "code",
   "execution_count": 131,
   "metadata": {
    "scrolled": true
   },
   "outputs": [
    {
     "data": {
      "text/plain": [
       "0    {'job': 1, 'description': 1, 'camp4': 6, 'is':...\n",
       "1    {'position': 4, 'summary': 1, ':': 18, 'mib': ...\n",
       "2    {'20': 1, 'petabytes': 1, 'of': 31, 'data': 14...\n",
       "3    {'goldfinch': 5, 'bio': 3, 'is': 5, 'a': 13, '...\n",
       "4    {'what': 2, 'you': 10, '’': 9, 'll': 4, 'be': ...\n",
       "5    {'profitect': 1, '’': 1, 's': 1, 'research': 1...\n",
       "6    {'*job': 2, 'description': 1, 'data': 4, 'scie...\n",
       "7    {'data': 4, 'scientist': 2, '(': 3, 'intern': ...\n",
       "8    {'job': 1, 'summarylooking': 1, 'for': 3, 'an'...\n",
       "9    {'who': 2, 'you': 5, '’': 3, 'll': 3, 'work': ...\n",
       "Name: term_counts, dtype: object"
      ]
     },
     "execution_count": 131,
     "metadata": {},
     "output_type": "execute_result"
    }
   ],
   "source": [
    "from collections import Counter\n",
    "def build_counts(row):\n",
    "    desc = row['description']\n",
    "    desc_tok = nltk.word_tokenize(desc)\n",
    "    return Counter(desc_tok)\n",
    "\n",
    "df['term_counts'] = df.apply(build_counts, axis=1)\n",
    "df.term_counts.head(10)"
   ]
  },
  {
   "cell_type": "markdown",
   "metadata": {},
   "source": [
    "### C. Aggregate the Counts to Get Word Count of Corpus (will be useful for calculating IDF)"
   ]
  },
  {
   "cell_type": "code",
   "execution_count": 132,
   "metadata": {},
   "outputs": [
    {
     "name": "stdout",
     "output_type": "stream",
     "text": [
      "[(',', 17097), ('and', 13520), ('.', 8115), ('to', 7085), ('the', 6059), ('of', 5892), ('in', 4538), ('a', 3894), ('with', 3517), ('data', 2968)]\n"
     ]
    }
   ],
   "source": [
    "tot_counts = Counter()\n",
    "for counts in df['term_counts']:\n",
    "    tot_counts += counts\n",
    "\n",
    "print(tot_counts.most_common(10))"
   ]
  },
  {
   "cell_type": "markdown",
   "metadata": {},
   "source": [
    "### D. Turn Aggregate Count into Doc Frequency (DF)\n",
    "This takes some time so there's likely a better way of doing this"
   ]
  },
  {
   "cell_type": "code",
   "execution_count": 133,
   "metadata": {
    "scrolled": true
   },
   "outputs": [
    {
     "name": "stdout",
     "output_type": "stream",
     "text": [
      "[('and', 461), (',', 461), ('in', 460), ('to', 460), ('with', 460), ('.', 459), ('of', 458), ('a', 457), ('the', 456), ('for', 454)]\n"
     ]
    }
   ],
   "source": [
    "def find_doc_count_with(row, word):\n",
    "    counts = row['term_counts']\n",
    "    return counts[word] > 0\n",
    "\n",
    "doc_appearances = Counter()\n",
    "for word, _ in tot_counts.items():\n",
    "    doc_appearances[word] = df.apply(find_doc_count_with, word=word, axis=1).sum()\n",
    "    \n",
    "print(doc_appearances.most_common(10))"
   ]
  },
  {
   "cell_type": "code",
   "execution_count": 134,
   "metadata": {},
   "outputs": [
    {
     "name": "stdout",
     "output_type": "stream",
     "text": [
      "(',', 31)\n"
     ]
    }
   ],
   "source": [
    "max_term_count = max(entry_counts.items(), key = lambda x: x[1])\n",
    "print(max_term_count)"
   ]
  },
  {
   "cell_type": "markdown",
   "metadata": {},
   "source": [
    "### E. Finally, Extracting TFIDF"
   ]
  },
  {
   "cell_type": "code",
   "execution_count": 139,
   "metadata": {},
   "outputs": [],
   "source": [
    "import math\n",
    "import pprint\n",
    "\n",
    "def get_doc_freq(doc_count, n_posts):\n",
    "    return doc_count/n_posts\n",
    "\n",
    "def get_doc_freq_smooth(doc_count, n_posts):\n",
    "    return (1 + doc_count)/n_posts\n",
    "\n",
    "def get_doc_freq_max(doc_count, max_doc_count):\n",
    "    return (1 + doc_count)/max_doc_count\n",
    "\n",
    "def get_doc_freq_prob(doc_count, n_posts):\n",
    "    return doc_count/(n_posts - doc_count + 1)\n",
    "\n",
    "def get_idf(doc_count, n_posts, max_doc_count):\n",
    "#     doc_freq = 1\n",
    "#     doc_freq = get_doc_freq(doc_count, n_posts)\n",
    "#     doc_freq = get_doc_freq_smooth(doc_count, n_posts)\n",
    "#     doc_freq = get_doc_freq_max(doc_count, max_doc_count)\n",
    "    doc_freq = get_doc_freq_prob(doc_count, n_posts)\n",
    "    inv_doc_freq = 1/doc_freq\n",
    "    return math.log(inv_doc_freq)"
   ]
  },
  {
   "cell_type": "code",
   "execution_count": 140,
   "metadata": {},
   "outputs": [],
   "source": [
    "def get_term_frequency(term_count, tot_term_count):\n",
    "    return term_count/float(tot_term_count)\n",
    "    \n",
    "def get_log_norm(term_count):\n",
    "    return 1 + math.log(1 + term_count)\n",
    "\n",
    "def get_double_k_norm(term_count, max_term_count, K=0.5):\n",
    "    return K + K*(term_count/max_term_count)\n",
    "\n",
    "\n",
    "def get_tf(term_count, max_term_count, tot_term_count=1, K=0.5):\n",
    "#     term_freq = get_term_frequency(term_count, 1)                # Return raw counts\n",
    "#     term_freq = get_term_frequency(term_count, tot_term_count)   # Return raw counts if tot_term_counts == 1 or term frequency otherwise\n",
    "    term_freq = get_log_norm(term_count)     # Return log normalization\n",
    "#     term_freq = get_double_k_norm(term_count, max_term_count, K) # Return double K normalization\n",
    "    return term_freq"
   ]
  },
  {
   "cell_type": "code",
   "execution_count": 187,
   "metadata": {
    "scrolled": true
   },
   "outputs": [],
   "source": [
    "from collections import OrderedDict\n",
    "\n",
    "def get_tfidf(entry, n_entries):\n",
    "    tfidf = dict()\n",
    "\n",
    "    entry_counts = entry.loc['term_counts']\n",
    "\n",
    "    max_pair = max(entry_counts.items(), key = lambda x: x[1])\n",
    "    max_term_count = max_pair[1]\n",
    "    tot_term_count = sum(entry_counts.values())\n",
    "\n",
    "    max_pair = max(doc_appearances.items(), key = lambda x: x[1])\n",
    "    max_doc_count = max_pair[1]\n",
    "    tot_doc_count = sum(doc_appearances.values())\n",
    "\n",
    "    for word, count in entry_counts.items():\n",
    "        term_count = entry_counts[word]\n",
    "        tf = get_tf(term_count, max_term_count, tot_term_count, 0.5)\n",
    "        doc_count = doc_appearances[word]\n",
    "        idf = get_idf(doc_count, n_entries, max_doc_count)\n",
    "        tfidf[word] = tf * idf\n",
    "    \n",
    "    tfidf_sorted = OrderedDict(sorted(tfidf.items(), key=lambda k :k[1], reverse=True))\n",
    "    \n",
    "    return tfidf_sorted\n",
    "\n",
    "df['tfidf'] = df.apply(get_tfidf, n_entries=len(df), axis=1)\n",
    "# print(entry.company_name) \n",
    "# print(' '.join(entry.description.split()[:25]))\n",
    "# pprint.pprint(sorted(tfidf.items(), key = lambda x : x[1], reverse=True)[:50])\n",
    "\n",
    "# sum(counts.values())\n",
    "# print(entry_counts['mib'], tot_term_count, max_term_count)\n",
    "# print(entry.description)\n",
    "# print(entry.link)\n",
    "# print(entry_counts['o'])\n",
    "# print(doc_appearances['mib'])"
   ]
  },
  {
   "cell_type": "code",
   "execution_count": 188,
   "metadata": {},
   "outputs": [
    {
     "data": {
      "text/html": [
       "<div>\n",
       "<style scoped>\n",
       "    .dataframe tbody tr th:only-of-type {\n",
       "        vertical-align: middle;\n",
       "    }\n",
       "\n",
       "    .dataframe tbody tr th {\n",
       "        vertical-align: top;\n",
       "    }\n",
       "\n",
       "    .dataframe thead th {\n",
       "        text-align: right;\n",
       "    }\n",
       "</style>\n",
       "<table border=\"1\" class=\"dataframe\">\n",
       "  <thead>\n",
       "    <tr style=\"text-align: right;\">\n",
       "      <th></th>\n",
       "      <th>job_title</th>\n",
       "      <th>company_name</th>\n",
       "      <th>annual_salary</th>\n",
       "      <th>city</th>\n",
       "      <th>state</th>\n",
       "      <th>zipcode</th>\n",
       "      <th>neighborhood</th>\n",
       "      <th>description</th>\n",
       "      <th>link</th>\n",
       "      <th>term_counts</th>\n",
       "      <th>tfidf</th>\n",
       "    </tr>\n",
       "  </thead>\n",
       "  <tbody>\n",
       "    <tr>\n",
       "      <th>0</th>\n",
       "      <td>Statistical Genetics, Data Scientist</td>\n",
       "      <td>Camp4 Therapeutics Corporation</td>\n",
       "      <td>NaN</td>\n",
       "      <td>Cambridge</td>\n",
       "      <td>MA</td>\n",
       "      <td></td>\n",
       "      <td></td>\n",
       "      <td>job description camp4 is seeking a data scient...</td>\n",
       "      <td>03bf439bfa53ee13</td>\n",
       "      <td>{'job': 1, 'description': 1, 'camp4': 6, 'is':...</td>\n",
       "      <td>{'camp4': 14.81921812682269, 'datatypes': 12.0...</td>\n",
       "    </tr>\n",
       "    <tr>\n",
       "      <th>1</th>\n",
       "      <td>Data Scientist</td>\n",
       "      <td>MIB Group, Inc.</td>\n",
       "      <td>NaN</td>\n",
       "      <td>Braintree</td>\n",
       "      <td>MA</td>\n",
       "      <td>02184</td>\n",
       "      <td></td>\n",
       "      <td>position summary: mib is committed to providin...</td>\n",
       "      <td>c920345674fcc072</td>\n",
       "      <td>{'position': 4, 'summary': 1, ':': 18, 'mib': ...</td>\n",
       "      <td>{'mib': 12.871624504325704, 'glm': 11.41242006...</td>\n",
       "    </tr>\n",
       "    <tr>\n",
       "      <th>2</th>\n",
       "      <td>Translational Medicine and Data Science Expert</td>\n",
       "      <td>Novartis</td>\n",
       "      <td>NaN</td>\n",
       "      <td>Cambridge</td>\n",
       "      <td>MA</td>\n",
       "      <td></td>\n",
       "      <td></td>\n",
       "      <td>20 petabytes of data. 2 million patient-years ...</td>\n",
       "      <td>4fdbb9b5cb09e0d2</td>\n",
       "      <td>{'20': 1, 'petabytes': 1, 'of': 31, 'data': 14...</td>\n",
       "      <td>{'tm': 11.412420064458, 'iia': 11.412420064458...</td>\n",
       "    </tr>\n",
       "    <tr>\n",
       "      <th>3</th>\n",
       "      <td>Computational Biologist/Data Scientist</td>\n",
       "      <td>Goldfinch Bio</td>\n",
       "      <td>NaN</td>\n",
       "      <td>Cambridge</td>\n",
       "      <td>MA</td>\n",
       "      <td></td>\n",
       "      <td></td>\n",
       "      <td>goldfinch bio is a biotechnology company that ...</td>\n",
       "      <td>f14bc6dec8b4f60f</td>\n",
       "      <td>{'goldfinch': 5, 'bio': 3, 'is': 5, 'a': 13, '...</td>\n",
       "      <td>{'goldfinch': 15.181809405099488, 'multi-omic'...</td>\n",
       "    </tr>\n",
       "    <tr>\n",
       "      <th>4</th>\n",
       "      <td>Principal Data Scientist</td>\n",
       "      <td>Verizon</td>\n",
       "      <td>NaN</td>\n",
       "      <td>Boston</td>\n",
       "      <td>MA</td>\n",
       "      <td>02109</td>\n",
       "      <td>Central area</td>\n",
       "      <td>what you’ll be doing... as a principal data sc...</td>\n",
       "      <td>8d13390a342786e0</td>\n",
       "      <td>{'what': 2, 'you': 10, '’': 9, 'll': 4, 'be': ...</td>\n",
       "      <td>{'verizon': 12.976857990206174, 'inmicrosoft':...</td>\n",
       "    </tr>\n",
       "    <tr>\n",
       "      <th>5</th>\n",
       "      <td>Data Scientist / Machine Learning Architect / ...</td>\n",
       "      <td>Profitect Inc.</td>\n",
       "      <td>NaN</td>\n",
       "      <td>Burlington</td>\n",
       "      <td>MA</td>\n",
       "      <td></td>\n",
       "      <td></td>\n",
       "      <td>profitect’s research and development team is l...</td>\n",
       "      <td>b7ae218bbb0b2a50</td>\n",
       "      <td>{'profitect': 1, '’': 1, 's': 1, 'research': 1...</td>\n",
       "      <td>{'profitect': 10.384745603751663, 'profits': 1...</td>\n",
       "    </tr>\n",
       "    <tr>\n",
       "      <th>6</th>\n",
       "      <td>Data Scientist (Full-Time)</td>\n",
       "      <td>proton.ai</td>\n",
       "      <td>97500.0</td>\n",
       "      <td>Boston</td>\n",
       "      <td>MA</td>\n",
       "      <td></td>\n",
       "      <td></td>\n",
       "      <td>*job description data scientist (full-time)tea...</td>\n",
       "      <td>8cacfaa3c21d0129</td>\n",
       "      <td>{'*job': 2, 'description': 1, 'data': 4, 'scie...</td>\n",
       "      <td>{'*job': 12.871624504325704, 'sciencelocation'...</td>\n",
       "    </tr>\n",
       "    <tr>\n",
       "      <th>7</th>\n",
       "      <td>Data Scientist (Intern, Part-Time)</td>\n",
       "      <td>proton.ai</td>\n",
       "      <td>NaN</td>\n",
       "      <td>Boston</td>\n",
       "      <td>MA</td>\n",
       "      <td></td>\n",
       "      <td></td>\n",
       "      <td>data scientist (intern, part-time)team:  data ...</td>\n",
       "      <td>1a087273ecb3d9e3</td>\n",
       "      <td>{'data': 4, 'scientist': 2, '(': 3, 'intern': ...</td>\n",
       "      <td>{'sciencerole': 10.384745603751663, '11:59': 1...</td>\n",
       "    </tr>\n",
       "    <tr>\n",
       "      <th>8</th>\n",
       "      <td>Sr. Data Scientist</td>\n",
       "      <td>Cubic IT</td>\n",
       "      <td>24795.0</td>\n",
       "      <td>Boston</td>\n",
       "      <td>MA</td>\n",
       "      <td></td>\n",
       "      <td></td>\n",
       "      <td>job summarylooking for an experienced machine ...</td>\n",
       "      <td>8b0554b4567cb6b0</td>\n",
       "      <td>{'job': 1, 'summarylooking': 1, 'for': 3, 'an'...</td>\n",
       "      <td>{'summarylooking': 10.384745603751663, 'manage...</td>\n",
       "    </tr>\n",
       "    <tr>\n",
       "      <th>9</th>\n",
       "      <td>Data Scientist</td>\n",
       "      <td>Park Jockey</td>\n",
       "      <td>NaN</td>\n",
       "      <td>Boston</td>\n",
       "      <td>MA</td>\n",
       "      <td></td>\n",
       "      <td></td>\n",
       "      <td>who you’ll work for reef technology is the eco...</td>\n",
       "      <td>0cc7c0afb827e835</td>\n",
       "      <td>{'who': 2, 'you': 5, '’': 3, 'll': 3, 'work': ...</td>\n",
       "      <td>{'reef': 16.004721385444572, 'micro-fulfillmen...</td>\n",
       "    </tr>\n",
       "  </tbody>\n",
       "</table>\n",
       "</div>"
      ],
      "text/plain": [
       "                                           job_title  \\\n",
       "0               Statistical Genetics, Data Scientist   \n",
       "1                                     Data Scientist   \n",
       "2     Translational Medicine and Data Science Expert   \n",
       "3             Computational Biologist/Data Scientist   \n",
       "4                           Principal Data Scientist   \n",
       "5  Data Scientist / Machine Learning Architect / ...   \n",
       "6                         Data Scientist (Full-Time)   \n",
       "7                 Data Scientist (Intern, Part-Time)   \n",
       "8                                 Sr. Data Scientist   \n",
       "9                                     Data Scientist   \n",
       "\n",
       "                     company_name  annual_salary        city state zipcode  \\\n",
       "0  Camp4 Therapeutics Corporation            NaN   Cambridge    MA           \n",
       "1                 MIB Group, Inc.            NaN   Braintree   MA    02184   \n",
       "2                        Novartis            NaN   Cambridge    MA           \n",
       "3                   Goldfinch Bio            NaN   Cambridge    MA           \n",
       "4                         Verizon            NaN      Boston   MA    02109   \n",
       "5                  Profitect Inc.            NaN  Burlington    MA           \n",
       "6                       proton.ai        97500.0      Boston    MA           \n",
       "7                       proton.ai            NaN      Boston    MA           \n",
       "8                        Cubic IT        24795.0      Boston    MA           \n",
       "9                     Park Jockey            NaN      Boston    MA           \n",
       "\n",
       "   neighborhood                                        description  \\\n",
       "0                job description camp4 is seeking a data scient...   \n",
       "1                position summary: mib is committed to providin...   \n",
       "2                20 petabytes of data. 2 million patient-years ...   \n",
       "3                goldfinch bio is a biotechnology company that ...   \n",
       "4  Central area  what you’ll be doing... as a principal data sc...   \n",
       "5                profitect’s research and development team is l...   \n",
       "6                *job description data scientist (full-time)tea...   \n",
       "7                data scientist (intern, part-time)team:  data ...   \n",
       "8                job summarylooking for an experienced machine ...   \n",
       "9                who you’ll work for reef technology is the eco...   \n",
       "\n",
       "               link                                        term_counts  \\\n",
       "0  03bf439bfa53ee13  {'job': 1, 'description': 1, 'camp4': 6, 'is':...   \n",
       "1  c920345674fcc072  {'position': 4, 'summary': 1, ':': 18, 'mib': ...   \n",
       "2  4fdbb9b5cb09e0d2  {'20': 1, 'petabytes': 1, 'of': 31, 'data': 14...   \n",
       "3  f14bc6dec8b4f60f  {'goldfinch': 5, 'bio': 3, 'is': 5, 'a': 13, '...   \n",
       "4  8d13390a342786e0  {'what': 2, 'you': 10, '’': 9, 'll': 4, 'be': ...   \n",
       "5  b7ae218bbb0b2a50  {'profitect': 1, '’': 1, 's': 1, 'research': 1...   \n",
       "6  8cacfaa3c21d0129  {'*job': 2, 'description': 1, 'data': 4, 'scie...   \n",
       "7  1a087273ecb3d9e3  {'data': 4, 'scientist': 2, '(': 3, 'intern': ...   \n",
       "8  8b0554b4567cb6b0  {'job': 1, 'summarylooking': 1, 'for': 3, 'an'...   \n",
       "9  0cc7c0afb827e835  {'who': 2, 'you': 5, '’': 3, 'll': 3, 'work': ...   \n",
       "\n",
       "                                               tfidf  \n",
       "0  {'camp4': 14.81921812682269, 'datatypes': 12.0...  \n",
       "1  {'mib': 12.871624504325704, 'glm': 11.41242006...  \n",
       "2  {'tm': 11.412420064458, 'iia': 11.412420064458...  \n",
       "3  {'goldfinch': 15.181809405099488, 'multi-omic'...  \n",
       "4  {'verizon': 12.976857990206174, 'inmicrosoft':...  \n",
       "5  {'profitect': 10.384745603751663, 'profits': 1...  \n",
       "6  {'*job': 12.871624504325704, 'sciencelocation'...  \n",
       "7  {'sciencerole': 10.384745603751663, '11:59': 1...  \n",
       "8  {'summarylooking': 10.384745603751663, 'manage...  \n",
       "9  {'reef': 16.004721385444572, 'micro-fulfillmen...  "
      ]
     },
     "execution_count": 188,
     "metadata": {},
     "output_type": "execute_result"
    }
   ],
   "source": [
    "# len(df)\n",
    "# df.shape\n",
    "df.head(10)"
   ]
  },
  {
   "cell_type": "code",
   "execution_count": 185,
   "metadata": {},
   "outputs": [],
   "source": [
    "name, ext = file_name.split('.')\n",
    "original_name = ' '.join(name.split('_')[:2])\n",
    "df.to_csv(original_name+'_tfidf.' + ext, encoding='utf-8')"
   ]
  },
  {
   "cell_type": "markdown",
   "metadata": {},
   "source": [
    "## 3. Salary"
   ]
  },
  {
   "cell_type": "code",
   "execution_count": 128,
   "metadata": {},
   "outputs": [
    {
     "name": "stdout",
     "output_type": "stream",
     "text": [
      "salary median: 86434.0\n",
      "salary mean: 88274.35714285714\n",
      "salary range: 24795.0 - 185000.0\n"
     ]
    }
   ],
   "source": [
    "# # display plots in the notebook\n",
    "# %matplotlib inline\n",
    "# # increase default figure and font sizes for easier viewing\n",
    "# plt.rcParams[‘figure.figsize’] = (8, 6)\n",
    "# plt.rcParams[‘font.size’] = 17\n",
    "\n",
    "print(\"salary median: \" + str(df[\"annual_salary\"].median()))\n",
    "print(\"salary mean: \" + str(df[\"annual_salary\"].mean()))\n",
    "print(\"salary range: \" + str(df[\"annual_salary\"].min()) + ' - ' + str(df['annual_salary'].max()) )"
   ]
  },
  {
   "cell_type": "code",
   "execution_count": 67,
   "metadata": {},
   "outputs": [],
   "source": [
    "# test = 'Similar jobs pay 76000 - 112000'\n",
    "\n",
    "# import re\n",
    "# ''.join(re.findall(r'\\d+', test))"
   ]
  },
  {
   "cell_type": "code",
   "execution_count": 68,
   "metadata": {},
   "outputs": [],
   "source": [
    "# df.loc[df['annual_salary'] == 20.62]"
   ]
  },
  {
   "cell_type": "code",
   "execution_count": 69,
   "metadata": {},
   "outputs": [
    {
     "data": {
      "text/plain": [
       "86434.0     2\n",
       "77630.5     1\n",
       "134700.0    1\n",
       "90000.0     1\n",
       "57730.5     1\n",
       "59750.0     1\n",
       "125000.0    1\n",
       "50000.0     1\n",
       "127500.0    1\n",
       "130000.0    1\n",
       "Name: annual_salary, dtype: int64"
      ]
     },
     "execution_count": 69,
     "metadata": {},
     "output_type": "execute_result"
    }
   ],
   "source": [
    "df['annual_salary'].value_counts().head(10)"
   ]
  },
  {
   "cell_type": "code",
   "execution_count": 86,
   "metadata": {},
   "outputs": [
    {
     "name": "stderr",
     "output_type": "stream",
     "text": [
      "/anaconda3/lib/python3.7/site-packages/scipy/stats/stats.py:1713: FutureWarning: Using a non-tuple sequence for multidimensional indexing is deprecated; use `arr[tuple(seq)]` instead of `arr[seq]`. In the future this will be interpreted as an array index, `arr[np.array(seq)]`, which will result either in an error or a different result.\n",
      "  return np.add.reduce(sorted[indexer] * weights, axis=axis) / sumval\n"
     ]
    },
    {
     "data": {
      "text/plain": [
       "<matplotlib.lines.Line2D at 0x108bfcef0>"
      ]
     },
     "execution_count": 86,
     "metadata": {},
     "output_type": "execute_result"
    },
    {
     "data": {
      "image/png": "[encoded data removed]",
      "text/plain": [
       "<Figure size 432x288 with 1 Axes>"
      ]
     },
     "metadata": {
      "needs_background": "light"
     },
     "output_type": "display_data"
    }
   ],
   "source": [
    "#plotting salary distribution, with vertical lines to represent the mean and median salary\n",
    "df_sal = df.dropna(subset=['annual_salary'])\n",
    "sal_plot = df_sal[\"annual_salary\"]\n",
    "ax = sns.distplot(df_sal[\"annual_salary\"])\n",
    "ax.axvline(df_sal[\"annual_salary\"].median(), lw=2.5, ls='dashed', color='black')\n",
    "ax.axvline(df_sal[\"annual_salary\"].mean(), lw=2.5, ls='dashed', color='red')\n",
    "# sns.plt.title('Indeed Salary Distribution with Median (black) and Mean (red)')"
   ]
  },
  {
   "cell_type": "code",
   "execution_count": null,
   "metadata": {},
   "outputs": [],
   "source": []
  }
 ],
 "metadata": {
  "kernelspec": {
   "display_name": "Python 3",
   "language": "python",
   "name": "python3"
  },
  "language_info": {
   "codemirror_mode": {
    "name": "ipython",
    "version": 3
   },
   "file_extension": ".py",
   "mimetype": "text/x-python",
   "name": "python",
   "nbconvert_exporter": "python",
   "pygments_lexer": "ipython3",
   "version": "3.7.2"
  }
 },
 "nbformat": 4,
 "nbformat_minor": 2
}
